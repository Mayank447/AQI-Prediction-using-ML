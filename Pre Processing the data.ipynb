{
 "cells": [
  {
   "cell_type": "code",
   "execution_count": 1,
   "metadata": {},
   "outputs": [],
   "source": [
    "# Importing all the modules and libraries \n",
    "import numpy as np\n",
    "import pandas as pd\n",
    "import matplotlib.pyplot as plt\n",
    "%matplotlib inline"
   ]
  },
  {
   "cell_type": "code",
   "execution_count": 2,
   "metadata": {},
   "outputs": [],
   "source": [
    "#Reading the data from csv\n",
    "df=pd.read_csv(r'C:\\Users\\Mayank\\Desktop\\Mayank\\AI Weather and Pollution Prediction Project\\Main Datasets\\AQI.csv')"
   ]
  },
  {
   "cell_type": "code",
   "execution_count": 4,
   "metadata": {},
   "outputs": [
    {
     "name": "stdout",
     "output_type": "stream",
     "text": [
      "         Date  PM2.5  PM10    NO2     CO    SO2      O3  AQI\n",
      "0  01-01-2015    NaN   NaN  18.22   0.92  27.64  133.36  NaN\n",
      "1  02-01-2015    NaN   NaN  15.69   0.97  24.55   34.06  NaN\n",
      "2  03-01-2015    NaN   NaN  19.30  17.40  29.07   30.70  NaN\n",
      "3  04-01-2015    NaN   NaN  18.48   1.70  18.59   36.08  NaN\n",
      "4  05-01-2015    NaN   NaN  21.42  22.10  39.33   39.31  NaN\n",
      "              PM2.5          PM10           NO2            CO           SO2  \\\n",
      "count  23464.000000  16984.000000  24521.000000  25966.000000  24215.000000   \n",
      "mean      69.957341    123.098857     29.234144      2.332161     14.828213   \n",
      "std       65.684469     91.405548     24.769069      7.151965     18.581384   \n",
      "min        0.040000      0.010000      0.010000      0.000000      0.010000   \n",
      "25%       30.687500     61.190000     12.140000      0.520000      5.630000   \n",
      "50%       50.970000    100.090000     22.470000      0.910000      9.230000   \n",
      "75%       83.480000    154.545000     38.380000      1.470000     15.560000   \n",
      "max      949.990000   1000.000000    362.210000    175.810000    193.860000   \n",
      "\n",
      "                 O3           AQI  \n",
      "count  24098.000000  23413.000000  \n",
      "mean      34.558685    171.711827  \n",
      "std       21.702443    143.011410  \n",
      "min        0.010000     13.000000  \n",
      "25%       18.970000     84.000000  \n",
      "50%       30.885000    122.000000  \n",
      "75%       45.500000    218.000000  \n",
      "max      257.730000   2049.000000  \n"
     ]
    },
    {
     "data": {
      "text/plain": [
       "(27986, 8)"
      ]
     },
     "execution_count": 4,
     "metadata": {},
     "output_type": "execute_result"
    }
   ],
   "source": [
    "print(df.head())\n",
    "print(df.describe())\n",
    "df.shape"
   ]
  },
  {
   "cell_type": "code",
   "execution_count": null,
   "metadata": {},
   "outputs": [],
   "source": [
    "''' I will first be finding out all the null values and then i'm going to subsituting them using conc.\n",
    "of other pollutants. Any pollutant can be used to calculate AQI.\n",
    "\n",
    "For reference go to https://forum.airnowtech.org/t/the-aqi-equation/169 and https://aqs.epa.gov/aqsweb/documents/codetables/aqi_breakpoints.html\n",
    "\n",
    "I will be using this formula\n",
    "\n",
    "Where\n",
    "Conci = Input concentration for a given pollutant\n",
    "ConcLo = The concentration breakpoint that is less than or equal to Conci\n",
    "ConcHi = The concentration breakpoint that is greater than or equal to Conci\n",
    "AQILo = The AQI value corresponding to Conci\n",
    "AQIHi = The AQI value corresponding to Conci\n",
    "'''"
   ]
  },
  {
   "cell_type": "code",
   "execution_count": 7,
   "metadata": {},
   "outputs": [],
   "source": [
    "#Function to convert PM 2.5 to AQI\n",
    "#Do keep in mind. It won't be exactly accurate\n",
    "\n",
    "def PMAQI(Ci):\n",
    "    if Ci>0 and Ci<=12:\n",
    "        Ahi=50\n",
    "        Alo=0\n",
    "        Clo=0\n",
    "        Chi=12\n",
    "    elif Ci>12 and Ci<=35.4:\n",
    "        Ahi=100\n",
    "        Alo=51\n",
    "        Clo=12.1\n",
    "        Chi=35.4\n",
    "    elif Ci>35.4 and Ci<=55.4:\n",
    "        Ahi=150\n",
    "        Alo=101\n",
    "        Clo=35.5\n",
    "        Chi=55.4\n",
    "    elif Ci>55.4 and Ci<=150.4:\n",
    "        Ahi=200\n",
    "        Alo=151\n",
    "        Clo=55.4\n",
    "        Chi=150.4\n",
    "    elif Ci>150.4 and Ci<=250.4:\n",
    "        Ahi=300\n",
    "        Alo=201\n",
    "        Clo=150.5\n",
    "        Chi=250.4\n",
    "    elif Ci>250.4 and Ci<=350.4:\n",
    "        Ahi=400\n",
    "        Alo=301\n",
    "        Clo=250.4\n",
    "        Chi=350.4\n",
    "    elif Ci>350.4 and Ci<=500.4:\n",
    "        Ahi=500\n",
    "        Alo=401\n",
    "        Clo=350.4\n",
    "        Chi=500.4\n",
    "    elif Ci>500.4 and Ci<=999.4:\n",
    "        Ahi=999\n",
    "        Alo=501\n",
    "        Clo=500.4\n",
    "        Chi=999.4\n",
    "    AQI=((Ahi-Alo)/(Chi-Clo))*(Ci-Clo)+Alo\n",
    "    return AQI"
   ]
  },
  {
   "cell_type": "code",
   "execution_count": 13,
   "metadata": {},
   "outputs": [],
   "source": [
    "#Function to convert PM 10 to AQI\n",
    "#Do keep in mind. It won't be exactly accurate\n",
    "\n",
    "def PM10AQI(Ci):\n",
    "    if Ci>0 and Ci<=54:\n",
    "        Ahi=50\n",
    "        Alo=0\n",
    "        Clo=0\n",
    "        Chi=54\n",
    "    elif Ci>54 and Ci<=154:\n",
    "        Ahi=100\n",
    "        Alo=51\n",
    "        Clo=55\n",
    "        Chi=154\n",
    "    elif Ci>154 and Ci<=254:\n",
    "        Ahi=150\n",
    "        Alo=101\n",
    "        Clo=155\n",
    "        Chi=254\n",
    "    elif Ci>254 and Ci<=354:\n",
    "        Ahi=200\n",
    "        Alo=151\n",
    "        Clo=255\n",
    "        Chi=354\n",
    "    elif Ci>354 and Ci<=424:\n",
    "        Ahi=300\n",
    "        Alo=201\n",
    "        Clo=355\n",
    "        Chi=424\n",
    "    elif Ci>424 and Ci<=504:\n",
    "        Ahi=400\n",
    "        Alo=301\n",
    "        Clo=425\n",
    "        Chi=504\n",
    "    elif Ci>504 and Ci<=604:\n",
    "        Ahi=500\n",
    "        Alo=401\n",
    "        Clo=505\n",
    "        Chi=604\n",
    "    elif Ci>604 and Ci<=999.4:\n",
    "        Ahi=999\n",
    "        Alo=501\n",
    "        Clo=605\n",
    "        Chi=999.4\n",
    "    AQI=((Ahi-Alo)/(Chi-Clo))*(Ci-Clo)+Alo\n",
    "    return AQI"
   ]
  },
  {
   "cell_type": "code",
   "execution_count": 16,
   "metadata": {},
   "outputs": [
    {
     "data": {
      "text/plain": [
       "34.03703703703704"
      ]
     },
     "execution_count": 16,
     "metadata": {},
     "output_type": "execute_result"
    }
   ],
   "source": [
    "PM10AQI(36.76)"
   ]
  },
  {
   "cell_type": "code",
   "execution_count": 17,
   "metadata": {},
   "outputs": [],
   "source": [
    "#Function to convert CO to AQI\n",
    "#Do keep in mind. It won't be exactly accurate\n",
    "\n",
    "def COAQI(Ci):\n",
    "    if Ci>0 and Ci<=4.4:\n",
    "        Ahi=50\n",
    "        Alo=0\n",
    "        Clo=0\n",
    "        Chi=4.4\n",
    "    elif Ci>4.4 and Ci<=9.4:\n",
    "        Ahi=100\n",
    "        Alo=51\n",
    "        Clo=4.5\n",
    "        Chi=9.4\n",
    "    elif Ci>9.4 and Ci<=12.4:\n",
    "        Ahi=150\n",
    "        Alo=101\n",
    "        Clo=9.5\n",
    "        Chi=12.4\n",
    "    elif Ci>12.4 and Ci<=15.4:\n",
    "        Ahi=200\n",
    "        Alo=151\n",
    "        Clo=12.5\n",
    "        Chi=15.4\n",
    "    elif Ci>15.4 and Ci<=30.4:\n",
    "        Ahi=300\n",
    "        Alo=201\n",
    "        Clo=15.5\n",
    "        Chi=30.4\n",
    "    elif Ci>30.4 and Ci<=40.4:\n",
    "        Ahi=400\n",
    "        Alo=301\n",
    "        Clo=30.5\n",
    "        Chi=40.4\n",
    "    elif Ci>40.4 and Ci<=50.4:\n",
    "        Ahi=500\n",
    "        Alo=401\n",
    "        Clo=40.5\n",
    "        Chi=50.4\n",
    "    elif Ci>50.4 and Ci<=99.4:\n",
    "        Ahi=999\n",
    "        Alo=501\n",
    "        Clo=50.5\n",
    "        Chi=99.4\n",
    "    AQI=((Ahi-Alo)/(Chi-Clo))*(Ci-Clo)+Alo\n",
    "    return AQI"
   ]
  },
  {
   "cell_type": "code",
   "execution_count": 18,
   "metadata": {},
   "outputs": [
    {
     "data": {
      "text/plain": [
       "209.1724832214765"
      ]
     },
     "execution_count": 18,
     "metadata": {},
     "output_type": "execute_result"
    }
   ],
   "source": [
    "COAQI(16.73)"
   ]
  },
  {
   "cell_type": "code",
   "execution_count": 19,
   "metadata": {},
   "outputs": [],
   "source": [
    "#Function to convert NO2 to AQI\n",
    "#Do keep in mind. It won't be exactly accurate\n",
    "\n",
    "def NO2AQI(Ci):\n",
    "    if Ci>0 and Ci<=53:\n",
    "        Ahi=50\n",
    "        Alo=0\n",
    "        Clo=0\n",
    "        Chi=53\n",
    "    elif Ci>53 and Ci<=100:\n",
    "        Ahi=100\n",
    "        Alo=51\n",
    "        Clo=54\n",
    "        Chi=100\n",
    "    elif Ci>100 and Ci<=360:\n",
    "        Ahi=150\n",
    "        Alo=101\n",
    "        Clo=101\n",
    "        Chi=360\n",
    "    elif Ci>360 and Ci<=649:\n",
    "        Ahi=200\n",
    "        Alo=151\n",
    "        Clo=361\n",
    "        Chi=649\n",
    "    elif Ci>649 and Ci<=1249:\n",
    "        Ahi=300\n",
    "        Alo=201\n",
    "        Clo=650\n",
    "        Chi=1249\n",
    "    elif Ci>1249 and Ci<=1649:\n",
    "        Ahi=400\n",
    "        Alo=301\n",
    "        Clo=1250\n",
    "        Chi=1649\n",
    "    elif Ci>1649 and Ci<=2049:\n",
    "        Ahi=500\n",
    "        Alo=401\n",
    "        Clo=1650\n",
    "        Chi=2049\n",
    "    elif Ci>2049 and Ci<=9999:\n",
    "        Ahi=999\n",
    "        Alo=501\n",
    "        Clo=2050\n",
    "        Chi=9999\n",
    "    AQI=((Ahi-Alo)/(Chi-Clo))*(Ci-Clo)+Alo\n",
    "    return AQI"
   ]
  },
  {
   "cell_type": "code",
   "execution_count": 20,
   "metadata": {},
   "outputs": [
    {
     "data": {
      "text/plain": [
       "51.0"
      ]
     },
     "execution_count": 20,
     "metadata": {},
     "output_type": "execute_result"
    }
   ],
   "source": [
    "NO2AQI(54)"
   ]
  },
  {
   "cell_type": "code",
   "execution_count": 21,
   "metadata": {},
   "outputs": [],
   "source": [
    "#Function to convert SO2 to AQI\n",
    "#Do keep in mind. It won't be exactly accurate\n",
    "\n",
    "def SO2AQI(Ci):\n",
    "    if Ci>0 and Ci<=35:\n",
    "        Ahi=50\n",
    "        Alo=0\n",
    "        Clo=0\n",
    "        Chi=35\n",
    "    elif Ci>35 and Ci<=75:\n",
    "        Ahi=100\n",
    "        Alo=51\n",
    "        Clo=36\n",
    "        Chi=75\n",
    "    elif Ci>75 and Ci<=185:\n",
    "        Ahi=150\n",
    "        Alo=101\n",
    "        Clo=76\n",
    "        Chi=185\n",
    "    elif Ci>185 and Ci<=304:\n",
    "        Ahi=200\n",
    "        Alo=151\n",
    "        Clo=186\n",
    "        Chi=304\n",
    "    elif Ci>304 and Ci<=604:\n",
    "        Ahi=300\n",
    "        Alo=201\n",
    "        Clo=305\n",
    "        Chi=604\n",
    "    elif Ci>604 and Ci<=804:\n",
    "        Ahi=400\n",
    "        Alo=301\n",
    "        Clo=605\n",
    "        Chi=804\n",
    "    elif Ci>804 and Ci<=1004:\n",
    "        Ahi=500\n",
    "        Alo=401\n",
    "        Clo=805\n",
    "        Chi=1004\n",
    "    elif Ci>1004 and Ci<=9999:\n",
    "        Ahi=999\n",
    "        Alo=501\n",
    "        Clo=1005\n",
    "        Chi=9999\n",
    "    AQI=((Ahi-Alo)/(Chi-Clo))*(Ci-Clo)+Alo\n",
    "    return AQI"
   ]
  },
  {
   "cell_type": "code",
   "execution_count": 22,
   "metadata": {},
   "outputs": [
    {
     "data": {
      "text/plain": [
       "11.428571428571429"
      ]
     },
     "execution_count": 22,
     "metadata": {},
     "output_type": "execute_result"
    }
   ],
   "source": [
    "SO2AQI(8)"
   ]
  },
  {
   "cell_type": "code",
   "execution_count": null,
   "metadata": {},
   "outputs": [],
   "source": []
  }
 ],
 "metadata": {
  "kernelspec": {
   "display_name": "Python 3",
   "language": "python",
   "name": "python3"
  },
  "language_info": {
   "codemirror_mode": {
    "name": "ipython",
    "version": 3
   },
   "file_extension": ".py",
   "mimetype": "text/x-python",
   "name": "python",
   "nbconvert_exporter": "python",
   "pygments_lexer": "ipython3",
   "version": "3.7.4"
  }
 },
 "nbformat": 4,
 "nbformat_minor": 2
}
