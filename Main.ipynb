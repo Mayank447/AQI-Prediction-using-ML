{
 "cells": [
  {
   "cell_type": "code",
   "execution_count": 1,
   "metadata": {},
   "outputs": [],
   "source": [
    "#Importing the required Modules and Libraries\n",
    "import pandas as pd"
   ]
  },
  {
   "cell_type": "code",
   "execution_count": 2,
   "metadata": {},
   "outputs": [],
   "source": [
    "import joblib\n",
    "AQIVAR=joblib.load('AQIVAR.pkl')"
   ]
  },
  {
   "cell_type": "code",
   "execution_count": 3,
   "metadata": {},
   "outputs": [],
   "source": [
    "#AQIVAR.summary()"
   ]
  },
  {
   "cell_type": "code",
   "execution_count": 12,
   "metadata": {},
   "outputs": [
    {
     "data": {
      "text/plain": [
       "[array([17.5132201 , 42.46484892,  6.925274  ,  0.49948563,  8.12647216,\n",
       "        14.90127671, 48.12478824]),\n",
       " array([29.35989053, 73.96361499, 14.24684878,  0.4125011 , 10.56144967,\n",
       "        17.43590856, 71.0980797 ]),\n",
       " array([35.26473405, 98.81913644, 18.40983041,  0.8301977 , 10.09038706,\n",
       "        19.47726305, 92.88065878]),\n",
       " array([35.22062086, 99.38341926, 17.99912821,  0.99557042,  9.77036437,\n",
       "        20.38599282, 98.39583777]),\n",
       " array([ 32.27379192,  93.15679815,  17.34289973,   0.80467661,\n",
       "         10.09491051,  20.86873086, 100.40023466]),\n",
       " array([34.34472664, 92.95988947, 17.24522227,  0.72526368,  9.9103394 ,\n",
       "        21.6390113 , 99.91966645]),\n",
       " array([ 35.19819199,  95.03584269,  18.13266085,   0.89721457,\n",
       "         10.33432192,  22.58095847, 100.91390167]),\n",
       " array([ 31.1572722 ,  90.65348634,  17.34294833,   0.90543759,\n",
       "         10.25129553,  23.24199756, 101.71869251]),\n",
       " array([29.27803484, 85.71834719, 18.01027341,  0.90199677, 10.38969179,\n",
       "        24.02834852, 98.44899042]),\n",
       " array([30.14680762, 87.91915235, 18.71693399,  0.89882386, 10.20168207,\n",
       "        25.01127537, 99.22242951]),\n",
       " array([ 30.54622213,  89.54237503,  18.64288839,   0.9162215 ,\n",
       "         10.14440254,  25.31115834, 100.63228736])]"
      ]
     },
     "execution_count": 12,
     "metadata": {},
     "output_type": "execute_result"
    }
   ],
   "source": [
    "# Taking the input from Arduino\n",
    "\n",
    "#Code to be runned with Arduino in connection\n",
    "\n",
    "import serial\n",
    "import time\n",
    "\n",
    "# set up the serial line\n",
    "ser = serial.Serial('COM4', 9600)\n",
    "time.sleep(2)\n",
    "\n",
    "# Read and record the data\n",
    "data =[]                       # empty list to store the data\n",
    "for i in range(1):\n",
    "    b = ser.readline()         # read a byte string\n",
    "    string_n = b.decode()  # decode byte string into Unicode  \n",
    "    string = string_n.rstrip() # remove \\n and \\r       # convert string to float\n",
    "    print(string)\n",
    "    data.append(string)           # add to the end of data list\n",
    "    time.sleep(0.1)            # wait (sleep) 0.1 seconds\n",
    "\n",
    "ser.close()\n",
    "\n",
    "l=[]\n",
    "\n",
    "for line in data:\n",
    "    l.append(data)\n",
    "    print(line)\n",
    "\n",
    "import matplotlib.pyplot as plt\n",
    "%matplotlib inline\n",
    "\n",
    "plt.plot(data)\n",
    "plt.xlabel('Time (seconds)')\n",
    "plt.ylabel('Potentiometer Reading')\n",
    "plt.title('Potentiometer Reading vs. Time')\n",
    "plt.show()"
   ]
  },
  {
   "cell_type": "code",
   "execution_count": 48,
   "metadata": {},
   "outputs": [
    {
     "name": "stdout",
     "output_type": "stream",
     "text": [
      "Enter the PM 2.5 Level: 47\n",
      "Enter the PM 10  Level: 53\n",
      "Enter the NO2 Level: 9\n",
      "Enter the CO Level: .5\n",
      "Enter the SO2 Level: 9\n",
      "Enter the O3 Level: 58\n",
      "Enter the AQI: 79\n"
     ]
    }
   ],
   "source": [
    "#Code to split and use the data for predictions\n",
    "\n",
    "#The code will be modified based on type of Data\n",
    "\n",
    "# show the data\n",
    "    \n",
    "#s=l[0]\n",
    "#print(s)\n",
    "#l=s[0].split()\n",
    "\n",
    "PM=int(input(\"Enter the PM 2.5 Level: \"))\n",
    "PM10=int(input(\"Enter the PM 10  Level: \"))\n",
    "NO2=int(input(\"Enter the NO2 Level: \"))\n",
    "CO=float(input(\"Enter the CO Level: \"))\n",
    "SO2=int(input(\"Enter the SO2 Level: \"))\n",
    "O3=int(input(\"Enter the O3 Level: \"))\n",
    "AQI=int(input(\"Enter the AQI: \"))"
   ]
  },
  {
   "cell_type": "code",
   "execution_count": 49,
   "metadata": {},
   "outputs": [],
   "source": [
    "prediction=AQIVAR.forecast(AQIVAR.y,steps=11)"
   ]
  },
  {
   "cell_type": "code",
   "execution_count": 50,
   "metadata": {},
   "outputs": [],
   "source": [
    "#Loading the csv file to get the columns\n",
    "\n",
    "df=pd.read_csv(r'C:\\Users\\Mayank\\Desktop\\Mayank\\AI Weather and Pollution Prediction Project\\Main Datasets\\Delhi AQI.csv')\n",
    "df.drop([\"Date\",\"City\"],axis=1,inplace=True)"
   ]
  },
  {
   "cell_type": "code",
   "execution_count": 51,
   "metadata": {},
   "outputs": [
    {
     "data": {
      "text/html": [
       "<div>\n",
       "<style scoped>\n",
       "    .dataframe tbody tr th:only-of-type {\n",
       "        vertical-align: middle;\n",
       "    }\n",
       "\n",
       "    .dataframe tbody tr th {\n",
       "        vertical-align: top;\n",
       "    }\n",
       "\n",
       "    .dataframe thead th {\n",
       "        text-align: right;\n",
       "    }\n",
       "</style>\n",
       "<table border=\"1\" class=\"dataframe\">\n",
       "  <thead>\n",
       "    <tr style=\"text-align: right;\">\n",
       "      <th></th>\n",
       "      <th>PM2.5</th>\n",
       "      <th>PM10</th>\n",
       "      <th>NO2</th>\n",
       "      <th>CO</th>\n",
       "      <th>SO2</th>\n",
       "      <th>O3</th>\n",
       "      <th>AQI</th>\n",
       "    </tr>\n",
       "  </thead>\n",
       "  <tbody>\n",
       "    <tr>\n",
       "      <td>0</td>\n",
       "      <td>17.5132</td>\n",
       "      <td>42.4648</td>\n",
       "      <td>6.92527</td>\n",
       "      <td>0.499486</td>\n",
       "      <td>8.12647</td>\n",
       "      <td>14.9013</td>\n",
       "      <td>48.1248</td>\n",
       "    </tr>\n",
       "    <tr>\n",
       "      <td>1</td>\n",
       "      <td>29.3599</td>\n",
       "      <td>73.9636</td>\n",
       "      <td>14.2468</td>\n",
       "      <td>0.412501</td>\n",
       "      <td>10.5614</td>\n",
       "      <td>17.4359</td>\n",
       "      <td>71.0981</td>\n",
       "    </tr>\n",
       "    <tr>\n",
       "      <td>2</td>\n",
       "      <td>35.2647</td>\n",
       "      <td>98.8191</td>\n",
       "      <td>18.4098</td>\n",
       "      <td>0.830198</td>\n",
       "      <td>10.0904</td>\n",
       "      <td>19.4773</td>\n",
       "      <td>92.8807</td>\n",
       "    </tr>\n",
       "    <tr>\n",
       "      <td>3</td>\n",
       "      <td>35.2206</td>\n",
       "      <td>99.3834</td>\n",
       "      <td>17.9991</td>\n",
       "      <td>0.99557</td>\n",
       "      <td>9.77036</td>\n",
       "      <td>20.386</td>\n",
       "      <td>98.3958</td>\n",
       "    </tr>\n",
       "    <tr>\n",
       "      <td>4</td>\n",
       "      <td>32.2738</td>\n",
       "      <td>93.1568</td>\n",
       "      <td>17.3429</td>\n",
       "      <td>0.804677</td>\n",
       "      <td>10.0949</td>\n",
       "      <td>20.8687</td>\n",
       "      <td>100.4</td>\n",
       "    </tr>\n",
       "    <tr>\n",
       "      <td>5</td>\n",
       "      <td>34.3447</td>\n",
       "      <td>92.9599</td>\n",
       "      <td>17.2452</td>\n",
       "      <td>0.725264</td>\n",
       "      <td>9.91034</td>\n",
       "      <td>21.639</td>\n",
       "      <td>99.9197</td>\n",
       "    </tr>\n",
       "    <tr>\n",
       "      <td>6</td>\n",
       "      <td>35.1982</td>\n",
       "      <td>95.0358</td>\n",
       "      <td>18.1327</td>\n",
       "      <td>0.897215</td>\n",
       "      <td>10.3343</td>\n",
       "      <td>22.581</td>\n",
       "      <td>100.914</td>\n",
       "    </tr>\n",
       "    <tr>\n",
       "      <td>7</td>\n",
       "      <td>31.1573</td>\n",
       "      <td>90.6535</td>\n",
       "      <td>17.3429</td>\n",
       "      <td>0.905438</td>\n",
       "      <td>10.2513</td>\n",
       "      <td>23.242</td>\n",
       "      <td>101.719</td>\n",
       "    </tr>\n",
       "    <tr>\n",
       "      <td>8</td>\n",
       "      <td>29.278</td>\n",
       "      <td>85.7183</td>\n",
       "      <td>18.0103</td>\n",
       "      <td>0.901997</td>\n",
       "      <td>10.3897</td>\n",
       "      <td>24.0283</td>\n",
       "      <td>98.449</td>\n",
       "    </tr>\n",
       "    <tr>\n",
       "      <td>9</td>\n",
       "      <td>30.1468</td>\n",
       "      <td>87.9192</td>\n",
       "      <td>18.7169</td>\n",
       "      <td>0.898824</td>\n",
       "      <td>10.2017</td>\n",
       "      <td>25.0113</td>\n",
       "      <td>99.2224</td>\n",
       "    </tr>\n",
       "    <tr>\n",
       "      <td>10</td>\n",
       "      <td>30.5462</td>\n",
       "      <td>89.5424</td>\n",
       "      <td>18.6429</td>\n",
       "      <td>0.916222</td>\n",
       "      <td>10.1444</td>\n",
       "      <td>25.3112</td>\n",
       "      <td>100.632</td>\n",
       "    </tr>\n",
       "  </tbody>\n",
       "</table>\n",
       "</div>"
      ],
      "text/plain": [
       "      PM2.5     PM10      NO2        CO      SO2       O3      AQI\n",
       "0   17.5132  42.4648  6.92527  0.499486  8.12647  14.9013  48.1248\n",
       "1   29.3599  73.9636  14.2468  0.412501  10.5614  17.4359  71.0981\n",
       "2   35.2647  98.8191  18.4098  0.830198  10.0904  19.4773  92.8807\n",
       "3   35.2206  99.3834  17.9991   0.99557  9.77036   20.386  98.3958\n",
       "4   32.2738  93.1568  17.3429  0.804677  10.0949  20.8687    100.4\n",
       "5   34.3447  92.9599  17.2452  0.725264  9.91034   21.639  99.9197\n",
       "6   35.1982  95.0358  18.1327  0.897215  10.3343   22.581  100.914\n",
       "7   31.1573  90.6535  17.3429  0.905438  10.2513   23.242  101.719\n",
       "8    29.278  85.7183  18.0103  0.901997  10.3897  24.0283   98.449\n",
       "9   30.1468  87.9192  18.7169  0.898824  10.2017  25.0113  99.2224\n",
       "10  30.5462  89.5424  18.6429  0.916222  10.1444  25.3112  100.632"
      ]
     },
     "execution_count": 51,
     "metadata": {},
     "output_type": "execute_result"
    }
   ],
   "source": [
    "#Converting our prediction array to Dataframe\n",
    "Prediction=pd.DataFrame(index=range(0,len(prediction)),columns=df.columns)\n",
    "\n",
    "for j in range(7):\n",
    "    for i in range(len(prediction)):\n",
    "        Prediction.iloc[i][j]=prediction[i][j]\n",
    "        \n",
    "Prediction"
   ]
  },
  {
   "cell_type": "code",
   "execution_count": 52,
   "metadata": {},
   "outputs": [
    {
     "data": {
      "text/plain": [
       "['2020-07-08',\n",
       " '2020-07-09',\n",
       " '2020-07-10',\n",
       " '2020-07-11',\n",
       " '2020-07-12',\n",
       " '2020-07-13',\n",
       " '2020-07-14',\n",
       " '2020-07-15',\n",
       " '2020-07-16',\n",
       " '2020-07-17',\n",
       " '2020-07-18']"
      ]
     },
     "execution_count": 52,
     "metadata": {},
     "output_type": "execute_result"
    }
   ],
   "source": [
    "from datetime import datetime\n",
    "datetime.today()\n",
    "date=datetime.now()\n",
    "\n",
    "da=date.day\n",
    "hr=date.hour\n",
    "mn=date.month\n",
    "yr=date.year\n",
    "\n",
    "tf=pd.DataFrame({'year':[yr,yr,yr,yr,yr,yr,yr,yr,yr,yr,yr],'month':[mn,mn,mn,mn,mn,mn,mn,mn,mn,mn,mn],'day':[da,da+1,da+2,da+3,da+4,da+5,da+6,da+7,da+8,da+9,da+10]})\n",
    "dat=str(pd.to_datetime(tf)).split()\n",
    "Dat=[]\n",
    "for i in range(1,len(dat)-1,2):\n",
    "    Dat.append(dat[i])\n",
    "Dat"
   ]
  },
  {
   "cell_type": "code",
   "execution_count": 59,
   "metadata": {},
   "outputs": [
    {
     "name": "stdout",
     "output_type": "stream",
     "text": [
      "['0', '2020-07-08', 'dtype:', 'datetime64[ns]']\n"
     ]
    },
    {
     "data": {
      "text/plain": [
       "['2020-07-08', 47, 53, 9, 0.5, 9, 58, 79]"
      ]
     },
     "execution_count": 59,
     "metadata": {},
     "output_type": "execute_result"
    }
   ],
   "source": [
    "RD=pd.DataFrame({'year':[yr],'month':[mn],'day':[da]})\n",
    "DAT=str(pd.to_datetime(RD)).split()\n",
    "print(DAT)\n",
    "record=[]\n",
    "record.append(DAT[1])\n",
    "record.append(PM)\n",
    "record.append(PM10)\n",
    "record.append(NO2)\n",
    "record.append(CO)\n",
    "record.append(SO2)\n",
    "record.append(O3)\n",
    "record.append(AQI)\n",
    "record"
   ]
  },
  {
   "cell_type": "code",
   "execution_count": 60,
   "metadata": {},
   "outputs": [],
   "source": [
    "#Writing the recorded data to csv\n",
    "import csv\n",
    "\n",
    "with open(r'C:\\Users\\Mayank\\Desktop\\Mayank\\AI Weather and Pollution Prediction Project\\Main Datasets\\AQIrecorded.csv','a',newline='') as recorded:\n",
    "    \n",
    "    writer=csv.writer(recorded)\n",
    "    writer.writerow(record)"
   ]
  },
  {
   "cell_type": "code",
   "execution_count": 61,
   "metadata": {},
   "outputs": [],
   "source": [
    "# Writing the Predicted Data to csv\n",
    "import csv\n",
    "\n",
    "csvaqi=list(prediction)\n",
    "\n",
    "with open(r'C:\\Users\\Mayank\\Desktop\\Mayank\\AI Weather and Pollution Prediction Project\\Main Datasets\\AQIr.csv','a',newline='') as file:\n",
    "    fieldnames=['PM 2.5','PM 10', 'NO2', 'CO', 'SO2', 'O3', 'AQI']\n",
    "    writer=csv.writer(file)    \n",
    "    writer.writerows(csvaqi)"
   ]
  },
  {
   "cell_type": "code",
   "execution_count": 62,
   "metadata": {},
   "outputs": [],
   "source": [
    "# For sending the AQI data to air purifier\n",
    "AQIs=list(Prediction[\"AQI\"])"
   ]
  },
  {
   "cell_type": "code",
   "execution_count": null,
   "metadata": {},
   "outputs": [],
   "source": []
  },
  {
   "cell_type": "code",
   "execution_count": null,
   "metadata": {},
   "outputs": [],
   "source": []
  }
 ],
 "metadata": {
  "kernelspec": {
   "display_name": "Python 3",
   "language": "python",
   "name": "python3"
  },
  "language_info": {
   "codemirror_mode": {
    "name": "ipython",
    "version": 3
   },
   "file_extension": ".py",
   "mimetype": "text/x-python",
   "name": "python",
   "nbconvert_exporter": "python",
   "pygments_lexer": "ipython3",
   "version": "3.7.4"
  }
 },
 "nbformat": 4,
 "nbformat_minor": 2
}
